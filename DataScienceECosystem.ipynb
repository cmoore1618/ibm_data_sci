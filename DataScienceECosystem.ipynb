{
 "cells": [
  {
   "cell_type": "markdown",
   "id": "60da7ed3-ee52-4df1-8f74-25c10a4e44df",
   "metadata": {},
   "source": [
    "# H1: Data Science Tools and Ecosystem"
   ]
  },
  {
   "cell_type": "markdown",
   "id": "d3ca9a6b-8273-4cf5-b880-28a4fc243a2e",
   "metadata": {},
   "source": [
    "In this notebook, Data Science Tools and Ecosystem are summarized."
   ]
  },
  {
   "cell_type": "markdown",
   "id": "faeae06b-b23c-40ed-9174-44ab59938ba3",
   "metadata": {},
   "source": [
    "**Objectives:**\n",
    "\n",
    "* Understanding and Using Data Frames in R\n",
    "* How RStudio is used for Data Visualizations\n",
    "* Using Github for storing, tracking and collaborating on software projects\n",
    "* Understand how APIs are used by Data Scientists to communicate with a database"
   ]
  },
  {
   "cell_type": "markdown",
   "id": "f294aeb3-1da8-4de2-b205-cae85e8da3e7",
   "metadata": {},
   "source": [
    "Some of the popular languages that Data Scientist use are:\n",
    "\n",
    "1. Python\n",
    "2. R\n",
    "3. SQL\n",
    "4. Julia"
   ]
  },
  {
   "cell_type": "markdown",
   "id": "9ec32d70-1e15-43e4-ba49-3b3358d9cded",
   "metadata": {},
   "source": [
    "Some of the commonly used libraries used by Data Scientists include:\n",
    "\n",
    "1. GGPLOT\n",
    "2. GGally\n",
    "3. Pandas\n",
    "4. SciKit-Learn\n",
    "5. Matplotlib\n",
    "6. NumPy"
   ]
  },
  {
   "cell_type": "markdown",
   "id": "6d3479c4-e858-43d6-8114-310ad5e21fbc",
   "metadata": {},
   "source": [
    "|Data Science Tools|\n",
    "|------------------|\n",
    "|Jupyter Notebooks |\n",
    "|JupyterLab        |\n",
    "|RStudio           |\n",
    "|Anaconda          |\n",
    "|Visual Studio     |\n",
    "|PyCharm           | "
   ]
  },
  {
   "cell_type": "markdown",
   "id": "ed45380a-2d51-4f18-b01a-19aa74697d94",
   "metadata": {},
   "source": [
    "### H3: Below are a few examples of evaluating arithmetic expressions in Python"
   ]
  },
  {
   "cell_type": "markdown",
   "id": "c8549082-a464-4843-935b-a75e695242e9",
   "metadata": {},
   "source": [
    "This is a simple arithmetic expression to multiply then add integers."
   ]
  },
  {
   "cell_type": "code",
   "execution_count": 4,
   "id": "441e1ea4-afa7-4f10-999a-637592fb693c",
   "metadata": {},
   "outputs": [
    {
     "data": {
      "text/plain": [
       "17"
      ]
     },
     "execution_count": 4,
     "metadata": {},
     "output_type": "execute_result"
    }
   ],
   "source": [
    "(3*4)+5"
   ]
  },
  {
   "cell_type": "markdown",
   "id": "1e4a11dd-8c87-4243-b88d-f8602e3fe16d",
   "metadata": {},
   "source": [
    "This will convert 200 minutes to hours by dividing b 60"
   ]
  },
  {
   "cell_type": "code",
   "execution_count": 5,
   "id": "8dc8a607-5ad0-4fa5-8c30-02b4701376b6",
   "metadata": {},
   "outputs": [
    {
     "data": {
      "text/plain": [
       "3.3333333333333335"
      ]
     },
     "execution_count": 5,
     "metadata": {},
     "output_type": "execute_result"
    }
   ],
   "source": [
    "200/ 60"
   ]
  },
  {
   "cell_type": "markdown",
   "id": "a4171b37-ec25-4e6c-931c-586c0a900b18",
   "metadata": {},
   "source": [
    "## H2 Author"
   ]
  },
  {
   "cell_type": "markdown",
   "id": "97994ae5-2d1e-45a5-a95e-20b909f65184",
   "metadata": {},
   "source": [
    "Gerald Christopher Moore"
   ]
  },
  {
   "cell_type": "code",
   "execution_count": null,
   "id": "47ffecdd-7670-4b3c-835b-f9c5cd8304c1",
   "metadata": {},
   "outputs": [],
   "source": []
  }
 ],
 "metadata": {
  "kernelspec": {
   "display_name": "Python 3 (ipykernel)",
   "language": "python",
   "name": "python3"
  },
  "language_info": {
   "codemirror_mode": {
    "name": "ipython",
    "version": 3
   },
   "file_extension": ".py",
   "mimetype": "text/x-python",
   "name": "python",
   "nbconvert_exporter": "python",
   "pygments_lexer": "ipython3",
   "version": "3.8.2"
  }
 },
 "nbformat": 4,
 "nbformat_minor": 5
}
